{
 "cells": [
  {
   "cell_type": "code",
   "execution_count": 1,
   "metadata": {},
   "outputs": [
    {
     "name": "stdout",
     "output_type": "stream",
     "text": [
      "['Helena', 'Henrik', 'Hans', 'Henriette']\n"
     ]
    }
   ],
   "source": [
    "# 1.A\n",
    "names = ['Anne', 'Helena', 'Sofie', 'Henrik', 'Hans', 'Kurt', 'David', 'Jens', 'Henriette']\n",
    "result = [name for name in names if name.startswith('H')]\n",
    "print(result)"
   ]
  },
  {
   "cell_type": "code",
   "execution_count": 1,
   "metadata": {},
   "outputs": [
    {
     "name": "stdout",
     "output_type": "stream",
     "text": [
      "[1, 8, 27, 64, 125, 216, 343, 512, 729, 1000, 1331, 1728, 2197, 2744, 3375, 4096, 4913, 5832, 6859, 8000, 9261, 10648, 12167, 13824, 15625, 17576, 19683, 21952, 24389, 27000, 29791, 32768, 35937, 39304, 42875, 46656, 50653, 54872, 59319, 64000, 68921, 74088, 79507, 85184, 91125, 97336, 103823, 110592, 117649, 125000, 132651, 140608, 148877, 157464, 166375, 175616, 185193, 195112, 205379, 216000, 226981, 238328, 250047, 262144, 274625, 287496, 300763, 314432, 328509, 343000, 357911, 373248, 389017, 405224, 421875, 438976, 456533, 474552, 493039, 512000, 531441, 551368, 571787, 592704, 614125, 636056, 658503, 681472, 704969, 729000, 753571, 778688, 804357, 830584, 857375, 884736, 912673, 941192, 970299, 1000000]\n"
     ]
    }
   ],
   "source": [
    "# 1.B\n",
    "numbers = [i**3 for i in range(1,101)]\n",
    "print(numbers)"
   ]
  },
  {
   "cell_type": "code",
   "execution_count": 3,
   "metadata": {},
   "outputs": [
    {
     "name": "stdout",
     "output_type": "stream",
     "text": [
      "[(4, 'Anne'), (6, 'Helena'), (5, 'Sofie'), (6, 'Henrik'), (4, 'Hans'), (4, 'Kurt'), (5, 'David'), (4, 'Jens'), (9, 'Henriette')]\n"
     ]
    }
   ],
   "source": [
    "# 1.C\n",
    "result = [(len(name), name) for name in names]\n",
    "print(result)"
   ]
  },
  {
   "cell_type": "code",
   "execution_count": 8,
   "metadata": {},
   "outputs": [
    {
     "name": "stdout",
     "output_type": "stream",
     "text": [
      "7\n",
      "3\n",
      "2\n",
      "0\n",
      "9\n",
      "3\n",
      "2\n",
      "['7', '3', '2', '0', '9', '3', '2']\n"
     ]
    }
   ],
   "source": [
    "# 1.D\n",
    "string = \"dx73rbvfæu2093v2klæck\"\n",
    "for element in string:\n",
    "    if element.isdigit():\n",
    "        print(element)\n",
    "# or in a list: \n",
    "result = [element for element in string if element.isdigit()]\n",
    "print(result)"
   ]
  },
  {
   "cell_type": "code",
   "execution_count": 2,
   "metadata": {},
   "outputs": [
    {
     "name": "stdout",
     "output_type": "stream",
     "text": [
      "{(1, 3), (6, 6), (5, 6), (2, 1), (6, 2), (1, 6), (5, 1), (2, 5), (1, 2), (3, 3), (5, 5), (4, 4), (6, 3), (1, 5), (3, 6), (2, 2), (4, 1), (1, 1), (6, 4), (3, 2), (2, 6), (5, 4), (4, 5), (5, 2), (1, 4), (2, 3), (4, 2), (6, 5), (3, 5), (5, 3), (4, 6), (6, 1), (3, 1), (4, 3), (3, 4), (2, 4)}\n"
     ]
    }
   ],
   "source": [
    "# 1.E\n",
    "result = set([(die1, die2) for die1 in range(1,7) for die2 in range(1,7)])\n",
    "print(result)"
   ]
  },
  {
   "cell_type": "code",
   "execution_count": 6,
   "metadata": {},
   "outputs": [
    {
     "name": "stdout",
     "output_type": "stream",
     "text": [
      "{'Anne': 4, 'Helena': 6, 'Sofie': 5, 'Henrik': 6, 'Hans': 4, 'Kurt': 4, 'David': 5, 'Jens': 4, 'Henriette': 9}\n"
     ]
    }
   ],
   "source": [
    "# 2.A\n",
    "result = dict([(name, len(name)) for name in names])\n",
    "print(result)"
   ]
  },
  {
   "cell_type": "code",
   "execution_count": 6,
   "metadata": {},
   "outputs": [
    {
     "name": "stdout",
     "output_type": "stream",
     "text": [
      "{4: 2.0, 25: 5.0, 169: 13.0, 361: 19.0, 16: 4.0, 9: 3.0, 256: 16.0, 1: 1.0, 100: 10.0, 64: 8.0}\n"
     ]
    }
   ],
   "source": [
    "# 2.B\n",
    "numbers = [4, 25, 169, 361, 16, 9, 256, 1, 100, 64]\n",
    "result = dict([(num, num**0.5) for num in numbers])\n",
    "print(result)"
   ]
  }
 ],
 "metadata": {
  "kernelspec": {
   "display_name": "Python 3",
   "language": "python",
   "name": "python3"
  },
  "language_info": {
   "codemirror_mode": {
    "name": "ipython",
    "version": 3
   },
   "file_extension": ".py",
   "mimetype": "text/x-python",
   "name": "python",
   "nbconvert_exporter": "python",
   "pygments_lexer": "ipython3",
   "version": "3.7.6"
  }
 },
 "nbformat": 4,
 "nbformat_minor": 4
}
