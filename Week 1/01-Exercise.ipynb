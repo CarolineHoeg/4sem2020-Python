{
 "cells": [
  {
   "cell_type": "code",
   "execution_count": 1,
   "metadata": {},
   "outputs": [
    {
     "name": "stdout",
     "output_type": "stream",
     "text": [
      "['Helena', 'Henrik', 'Hans', 'Henriette']\n"
     ]
    }
   ],
   "source": [
    "# 1.A\n",
    "names = ['Anne', 'Helena', 'Sofie', 'Henrik', 'Hans', 'Kurt', 'David', 'Jens', 'Henriette']\n",
    "result = [name for name in names if name.startswith('H')]\n",
    "print(result)"
   ]
  },
  {
   "cell_type": "code",
   "execution_count": 2,
   "metadata": {},
   "outputs": [
    {
     "name": "stdout",
     "output_type": "stream",
     "text": [
      "[3, 6, 9, 12, 15, 18, 21, 24, 27, 30, 33, 36, 39, 42, 45, 48, 51, 54, 57, 60, 63, 66, 69, 72, 75, 78, 81, 84, 87, 90, 93, 96, 99]\n"
     ]
    }
   ],
   "source": [
    "# 1.B\n",
    "numbers = [i for i in range(1,101) if i%3 == 0]\n",
    "print(numbers)"
   ]
  },
  {
   "cell_type": "code",
   "execution_count": 3,
   "metadata": {},
   "outputs": [
    {
     "name": "stdout",
     "output_type": "stream",
     "text": [
      "[(4, 'Anne'), (6, 'Helena'), (5, 'Sofie'), (6, 'Henrik'), (4, 'Hans'), (4, 'Kurt'), (5, 'David'), (4, 'Jens'), (9, 'Henriette')]\n"
     ]
    }
   ],
   "source": [
    "# 1.C\n",
    "result = [(len(name), name) for name in names]\n",
    "print(result)"
   ]
  },
  {
   "cell_type": "code",
   "execution_count": 8,
   "metadata": {},
   "outputs": [
    {
     "name": "stdout",
     "output_type": "stream",
     "text": [
      "7\n",
      "3\n",
      "2\n",
      "0\n",
      "9\n",
      "3\n",
      "2\n",
      "['7', '3', '2', '0', '9', '3', '2']\n"
     ]
    }
   ],
   "source": [
    "# 1.D\n",
    "string = \"dx73rbvfæu2093v2klæck\"\n",
    "for element in string:\n",
    "    if element.isdigit():\n",
    "        print(element)\n",
    "# or in a list: \n",
    "result = [element for element in string if element.isdigit()]\n",
    "print(result)"
   ]
  },
  {
   "cell_type": "code",
   "execution_count": 5,
   "metadata": {},
   "outputs": [],
   "source": [
    "# 1.E\n"
   ]
  },
  {
   "cell_type": "code",
   "execution_count": 6,
   "metadata": {},
   "outputs": [
    {
     "name": "stdout",
     "output_type": "stream",
     "text": [
      "{'Anne': 4, 'Helena': 6, 'Sofie': 5, 'Henrik': 6, 'Hans': 4, 'Kurt': 4, 'David': 5, 'Jens': 4, 'Henriette': 9}\n"
     ]
    }
   ],
   "source": [
    "# 2.A\n",
    "result = dict([(name, len(name)) for name in names])\n",
    "print(result)"
   ]
  },
  {
   "cell_type": "code",
   "execution_count": 7,
   "metadata": {},
   "outputs": [],
   "source": [
    "# 2.B\n"
   ]
  }
 ],
 "metadata": {
  "kernelspec": {
   "display_name": "Python 3",
   "language": "python",
   "name": "python3"
  },
  "language_info": {
   "codemirror_mode": {
    "name": "ipython",
    "version": 3
   },
   "file_extension": ".py",
   "mimetype": "text/x-python",
   "name": "python",
   "nbconvert_exporter": "python",
   "pygments_lexer": "ipython3",
   "version": "3.7.6"
  }
 },
 "nbformat": 4,
 "nbformat_minor": 4
}
